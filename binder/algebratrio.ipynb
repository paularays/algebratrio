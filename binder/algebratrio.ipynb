{
 "cells": [
  {
   "cell_type": "code",
   "execution_count": 1,
   "id": "ce23f562-b2a1-4bcb-9bb1-0e55e668600b",
   "metadata": {},
   "outputs": [
    {
     "name": "stdout",
     "output_type": "stream",
     "text": [
      "[3, 5]\n"
     ]
    }
   ],
   "source": [
    "def suma_vectores(vector1, vector2):\n",
    "    resultado=[]\n",
    "    for i in range(len(vector1)):\n",
    "        resultado.append(vector1[i] + vector2[i])\n",
    "    return resultado\n",
    "\n",
    "vector1=[1,2]\n",
    "vector2=[2,3]\n",
    "\n",
    "resultado=suma_vectores(vector1,vector2)\n",
    "print(resultado)"
   ]
  },
  {
   "cell_type": "code",
   "execution_count": 2,
   "id": "ae2e8c88-d10e-4356-9ad6-861a66c37bfc",
   "metadata": {},
   "outputs": [
    {
     "name": "stdout",
     "output_type": "stream",
     "text": [
      "[[10, 10, 10], [10, 10, 10], [10, 10, 10]]\n"
     ]
    }
   ],
   "source": [
    "def SumaMatrices(A,B):\n",
    "    resultado=[]\n",
    "    for i in range(len(A)):\n",
    "        fila=[]\n",
    "        for y in range(len(A[0])):  \n",
    "            fila.append(A[i][y] + B[i][y])\n",
    "        resultado.append(fila)\n",
    "\n",
    "    return resultado\n",
    "\n",
    "A=[[1,2,3],[4,5,6],[7,8,9]]\n",
    "B=[[9,8,7],[6,5,4],[3,2,1]]\n",
    "\n",
    "resultado = SumaMatrices(A,B)\n",
    "print(resultado)"
   ]
  },
  {
   "cell_type": "code",
   "execution_count": 3,
   "id": "8b0a203f-ab1b-41de-aaba-ef11e50d9b57",
   "metadata": {},
   "outputs": [
    {
     "name": "stdout",
     "output_type": "stream",
     "text": [
      "El producto escalar de los vectores a y b son: 3805\n"
     ]
    }
   ],
   "source": [
    "def ProductoEscalar (a,b):\n",
    "    operacion=(a[0]*b[0])+(a[1]*b[1])+(a[2]*b[2])+(a[3]*b[3])\n",
    "    return (operacion)\n",
    "#Programa principal\n",
    "a=[5,10,20,30]\n",
    "b=[23,78,45,67]\n",
    "\n",
    "resultado=ProductoEscalar(a,b)\n",
    "print (\"El producto escalar de los vectores a y b son:\",resultado)"
   ]
  },
  {
   "cell_type": "code",
   "execution_count": 4,
   "id": "a4e7626e-094e-45d2-b8a1-0208f12d0c90",
   "metadata": {},
   "outputs": [
    {
     "name": "stdout",
     "output_type": "stream",
     "text": [
      "La magnitud es: 2.8284271247461903\n"
     ]
    }
   ],
   "source": [
    "def MagnitudVector (x,y):\n",
    "    operacion=(x**2)+(y**2)\n",
    "    magnitud=operacion**0.5\n",
    "    return(magnitud)\n",
    "\n",
    "#Código principal\n",
    "\n",
    "x=2\n",
    "y=2\n",
    "\n",
    "resultado=MagnitudVector(x,y)\n",
    "print(\"La magnitud es:\",resultado)"
   ]
  },
  {
   "cell_type": "code",
   "execution_count": 5,
   "id": "09622871-84f4-4b6a-92f2-9eb130d8318f",
   "metadata": {},
   "outputs": [
    {
     "name": "stdout",
     "output_type": "stream",
     "text": [
      "El determinate de la matriz es:  53\n"
     ]
    }
   ],
   "source": [
    "def Determinante(a,b):\n",
    "    operacion=(a[0]*b[1])-(b[0]*a[1])\n",
    "    return (operacion)\n",
    "#se descompuso la matriz en 2 listas tal que a corresponde al renglon 1 y b corresponde al renglon 2\n",
    "a=[5,-3]\n",
    "b=[6,7]\n",
    "resultado=Determinante(a,b)\n",
    "print(\"El determinate de la matriz es: \",resultado)"
   ]
  }
 ],
 "metadata": {
  "kernelspec": {
   "display_name": "Python 3 (ipykernel)",
   "language": "python",
   "name": "python3"
  },
  "language_info": {
   "codemirror_mode": {
    "name": "ipython",
    "version": 3
   },
   "file_extension": ".py",
   "mimetype": "text/x-python",
   "name": "python",
   "nbconvert_exporter": "python",
   "pygments_lexer": "ipython3",
   "version": "3.10.9"
  }
 },
 "nbformat": 4,
 "nbformat_minor": 5
}
