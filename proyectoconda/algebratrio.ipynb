{
 "cells": [
  {
   "cell_type": "code",
   "execution_count": 21,
   "id": "5e4598d6-fe65-46a0-bc89-8a5dd9b80d80",
   "metadata": {
    "tags": []
   },
   "outputs": [
    {
     "name": "stdout",
     "output_type": "stream",
     "text": [
      "Collecting wget\n",
      "  Downloading wget-3.2.zip (10 kB)\n",
      "  Preparing metadata (setup.py) ... \u001b[?25ldone\n",
      "\u001b[?25hBuilding wheels for collected packages: wget\n",
      "  Building wheel for wget (setup.py) ... \u001b[?25ldone\n",
      "\u001b[?25h  Created wheel for wget: filename=wget-3.2-py3-none-any.whl size=9656 sha256=c58f85a711c44dc82898b09b738fa930ffa49dc07b00dea5941ca65946a6dad0\n",
      "  Stored in directory: /Users/paularayas/Library/Caches/pip/wheels/40/b3/0f/a40dbd1c6861731779f62cc4babcb234387e11d697df70ee97\n",
      "Successfully built wget\n",
      "Installing collected packages: wget\n",
      "Successfully installed wget-3.2\n"
     ]
    }
   ],
   "source": [
    "!pip install wget"
   ]
  },
  {
   "cell_type": "code",
   "execution_count": 36,
   "id": "dd54f86c-ec65-485e-9922-994073aa1e87",
   "metadata": {
    "tags": []
   },
   "outputs": [
    {
     "name": "stdout",
     "output_type": "stream",
     "text": [
      "Collecting watermark\n",
      "  Obtaining dependency information for watermark from https://files.pythonhosted.org/packages/67/ee/32fec350c20ff060064d058c37df53dd1fad74dfea9532faf2868b0512b5/watermark-2.4.3-py2.py3-none-any.whl.metadata\n",
      "  Downloading watermark-2.4.3-py2.py3-none-any.whl.metadata (1.4 kB)\n",
      "Requirement already satisfied: ipython>=6.0 in /Users/paularayas/anaconda3/lib/python3.11/site-packages (from watermark) (8.15.0)\n",
      "Requirement already satisfied: importlib-metadata>=1.4 in /Users/paularayas/anaconda3/lib/python3.11/site-packages (from watermark) (6.0.0)\n",
      "Requirement already satisfied: setuptools in /Users/paularayas/anaconda3/lib/python3.11/site-packages (from watermark) (68.0.0)\n",
      "Requirement already satisfied: zipp>=0.5 in /Users/paularayas/anaconda3/lib/python3.11/site-packages (from importlib-metadata>=1.4->watermark) (3.11.0)\n",
      "Requirement already satisfied: backcall in /Users/paularayas/anaconda3/lib/python3.11/site-packages (from ipython>=6.0->watermark) (0.2.0)\n",
      "Requirement already satisfied: decorator in /Users/paularayas/anaconda3/lib/python3.11/site-packages (from ipython>=6.0->watermark) (5.1.1)\n",
      "Requirement already satisfied: jedi>=0.16 in /Users/paularayas/anaconda3/lib/python3.11/site-packages (from ipython>=6.0->watermark) (0.18.1)\n",
      "Requirement already satisfied: matplotlib-inline in /Users/paularayas/anaconda3/lib/python3.11/site-packages (from ipython>=6.0->watermark) (0.1.6)\n",
      "Requirement already satisfied: pickleshare in /Users/paularayas/anaconda3/lib/python3.11/site-packages (from ipython>=6.0->watermark) (0.7.5)\n",
      "Requirement already satisfied: prompt-toolkit!=3.0.37,<3.1.0,>=3.0.30 in /Users/paularayas/anaconda3/lib/python3.11/site-packages (from ipython>=6.0->watermark) (3.0.36)\n",
      "Requirement already satisfied: pygments>=2.4.0 in /Users/paularayas/anaconda3/lib/python3.11/site-packages (from ipython>=6.0->watermark) (2.15.1)\n",
      "Requirement already satisfied: stack-data in /Users/paularayas/anaconda3/lib/python3.11/site-packages (from ipython>=6.0->watermark) (0.2.0)\n",
      "Requirement already satisfied: traitlets>=5 in /Users/paularayas/anaconda3/lib/python3.11/site-packages (from ipython>=6.0->watermark) (5.7.1)\n",
      "Requirement already satisfied: pexpect>4.3 in /Users/paularayas/anaconda3/lib/python3.11/site-packages (from ipython>=6.0->watermark) (4.8.0)\n",
      "Requirement already satisfied: appnope in /Users/paularayas/anaconda3/lib/python3.11/site-packages (from ipython>=6.0->watermark) (0.1.2)\n",
      "Requirement already satisfied: parso<0.9.0,>=0.8.0 in /Users/paularayas/anaconda3/lib/python3.11/site-packages (from jedi>=0.16->ipython>=6.0->watermark) (0.8.3)\n",
      "Requirement already satisfied: ptyprocess>=0.5 in /Users/paularayas/anaconda3/lib/python3.11/site-packages (from pexpect>4.3->ipython>=6.0->watermark) (0.7.0)\n",
      "Requirement already satisfied: wcwidth in /Users/paularayas/anaconda3/lib/python3.11/site-packages (from prompt-toolkit!=3.0.37,<3.1.0,>=3.0.30->ipython>=6.0->watermark) (0.2.5)\n",
      "Requirement already satisfied: executing in /Users/paularayas/anaconda3/lib/python3.11/site-packages (from stack-data->ipython>=6.0->watermark) (0.8.3)\n",
      "Requirement already satisfied: asttokens in /Users/paularayas/anaconda3/lib/python3.11/site-packages (from stack-data->ipython>=6.0->watermark) (2.0.5)\n",
      "Requirement already satisfied: pure-eval in /Users/paularayas/anaconda3/lib/python3.11/site-packages (from stack-data->ipython>=6.0->watermark) (0.2.2)\n",
      "Requirement already satisfied: six in /Users/paularayas/anaconda3/lib/python3.11/site-packages (from asttokens->stack-data->ipython>=6.0->watermark) (1.16.0)\n",
      "Downloading watermark-2.4.3-py2.py3-none-any.whl (7.6 kB)\n",
      "Installing collected packages: watermark\n",
      "Successfully installed watermark-2.4.3\n"
     ]
    }
   ],
   "source": [
    "!pip install watermark\n",
    "\n"
   ]
  },
  {
   "cell_type": "code",
   "execution_count": 24,
   "id": "2de2da5c-7c0c-4501-b5de-9efe08bd3bbe",
   "metadata": {
    "tags": []
   },
   "outputs": [],
   "source": [
    "import wget"
   ]
  },
  {
   "cell_type": "code",
   "execution_count": 40,
   "id": "9e8bcbb3-90dd-4199-b5ff-9c0f98378d0a",
   "metadata": {
    "tags": []
   },
   "outputs": [],
   "source": [
    "#file name\n",
    "file_name=\"alebratrio.py\"\n",
    "zenobo_url=\"https://zenodo.org/records/10207009\""
   ]
  },
  {
   "cell_type": "code",
   "execution_count": 42,
   "id": "14d99d73-cc62-4944-b9d4-d1d1c958e858",
   "metadata": {
    "tags": []
   },
   "outputs": [
    {
     "data": {
      "text/plain": [
       "'./alebratrio (1).py'"
      ]
     },
     "execution_count": 42,
     "metadata": {},
     "output_type": "execute_result"
    }
   ],
   "source": [
    "#dowloand\n",
    "wget.download(zenobo_url + file_name, \"./\" + file_name)"
   ]
  },
  {
   "cell_type": "code",
   "execution_count": 37,
   "id": "9485963e-cc6e-4b2c-aeec-4176898b03b1",
   "metadata": {
    "tags": []
   },
   "outputs": [
    {
     "name": "stdout",
     "output_type": "stream",
     "text": [
      "Python implementation: CPython\n",
      "Python version       : 3.11.5\n",
      "IPython version      : 8.15.0\n",
      "\n",
      "wget     : 3.2\n",
      "watermark: 2.4.3\n",
      "\n",
      "Compiler    : Clang 14.0.6 \n",
      "OS          : Darwin\n",
      "Release     : 21.6.0\n",
      "Machine     : x86_64\n",
      "Processor   : i386\n",
      "CPU cores   : 4\n",
      "Architecture: 64bit\n",
      "\n",
      " \n",
      "Last updated: Sat Nov 25 2023 21:55:21CST\n",
      "\n"
     ]
    }
   ],
   "source": [
    "%load_ext watermark\n",
    "%watermark -v -m -p wget,watermark\n",
    "\n",
    "print(\" \")\n",
    "%watermark -u -n "
   ]
  },
  {
   "cell_type": "code",
   "execution_count": null,
   "id": "63a3a57d-c238-4716-ad82-8d32cc88b1e7",
   "metadata": {},
   "outputs": [],
   "source": []
  }
 ],
 "metadata": {
  "kernelspec": {
   "display_name": "Python 3 (ipykernel)",
   "language": "python",
   "name": "python3"
  },
  "language_info": {
   "codemirror_mode": {
    "name": "ipython",
    "version": 3
   },
   "file_extension": ".py",
   "mimetype": "text/x-python",
   "name": "python",
   "nbconvert_exporter": "python",
   "pygments_lexer": "ipython3",
   "version": "3.11.5"
  }
 },
 "nbformat": 4,
 "nbformat_minor": 5
}
